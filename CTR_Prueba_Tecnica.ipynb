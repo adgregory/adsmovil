{
  "nbformat": 4,
  "nbformat_minor": 0,
  "metadata": {
    "colab": {
      "name": "CTR Prueba Tecnica.ipynb",
      "provenance": [],
      "machine_shape": "hm",
      "authorship_tag": "ABX9TyMK8i5EbBL58eFmerqmDQ1l",
      "include_colab_link": true
    },
    "kernelspec": {
      "name": "python3",
      "display_name": "Python 3"
    },
    "language_info": {
      "name": "python"
    },
    "accelerator": "GPU"
  },
  "cells": [
    {
      "cell_type": "markdown",
      "metadata": {
        "id": "view-in-github",
        "colab_type": "text"
      },
      "source": [
        "<a href=\"https://colab.research.google.com/github/adgregory/adsmovil/blob/main/CTR_Prueba_Tecnica.ipynb\" target=\"_parent\"><img src=\"https://colab.research.google.com/assets/colab-badge.svg\" alt=\"Open In Colab\"/></a>"
      ]
    },
    {
      "cell_type": "markdown",
      "source": [
        "# State of the Art"
      ],
      "metadata": {
        "id": "vp8ckR5_H6QD"
      }
    },
    {
      "cell_type": "markdown",
      "source": [
        "1. Deep Interest Network for Click-Through Rate Prediction\n",
        "https://sci-hub.hkvisa.net/10.1145/3219819.3219823\n",
        "\n",
        "Features y modelos implementados\n",
        "\n",
        "2. DataSet de Kaggle. Features implementados.\n",
        "https://www.kaggle.com/c/avazu-ctr-prediction/overview"
      ],
      "metadata": {
        "id": "gnKt5S2jIKDJ"
      }
    },
    {
      "cell_type": "markdown",
      "source": [
        "# Install required libraries"
      ],
      "metadata": {
        "id": "zBTfkCXEIERb"
      }
    },
    {
      "cell_type": "code",
      "execution_count": 3,
      "metadata": {
        "id": "pUtjRQhX4yOS"
      },
      "outputs": [],
      "source": [
        "%%capture\n",
        "!pip install tensorflow_data_validation"
      ]
    },
    {
      "cell_type": "markdown",
      "source": [
        "# Libraries"
      ],
      "metadata": {
        "id": "2fNwUWfK6W2J"
      }
    },
    {
      "cell_type": "code",
      "source": [
        "# General\n",
        "import pandas as pd\n",
        "import numpy as np\n",
        "import math\n",
        "\n",
        "# visualization\n",
        "import seaborn as sns\n",
        "import matplotlib.pyplot as plt\n",
        "import tensorflow_data_validation as tfdv"
      ],
      "metadata": {
        "id": "a3OM4sZH5Fln"
      },
      "execution_count": 283,
      "outputs": []
    },
    {
      "cell_type": "code",
      "source": [
        "sns.set_theme()"
      ],
      "metadata": {
        "id": "mx7QBcP5YZ_h"
      },
      "execution_count": 138,
      "outputs": []
    },
    {
      "cell_type": "markdown",
      "source": [
        "# Data Visualization"
      ],
      "metadata": {
        "id": "XjWZmGdn6fYf"
      }
    },
    {
      "cell_type": "markdown",
      "source": [
        "## Data Visualization Helper Functions"
      ],
      "metadata": {
        "id": "hWlHfP23aT4X"
      }
    },
    {
      "cell_type": "code",
      "source": [
        "def plot_feature_histogram(tfdv_stats, ft_idx):\n",
        "\n",
        "  hist_df = pd.DataFrame(columns=['name', 'frequency'])\n",
        "  for value in tfdv_stats.datasets[0].features[ft_idx].string_stats.top_values:\n",
        "    hist_df = hist_df.append({'name': value.value, 'frequency': value.frequency}, ignore_index = True)\n",
        "\n",
        "  # Graficar Feature Histogram\n",
        "  ft_name = ctr_stats.datasets[0].features[ft_idx].path.step[0]\n",
        "  sns.histplot(hist_df, x = 'name', y = 'frequency')\n",
        "  plt.title(ft_name + ' feature histogram')\n",
        "  plt.xticks(rotation=90)\n"
      ],
      "metadata": {
        "id": "fBedHk06aUTK"
      },
      "execution_count": 193,
      "outputs": []
    },
    {
      "cell_type": "markdown",
      "source": [
        "## Data Understanding"
      ],
      "metadata": {
        "id": "yn2zcVuTaZDE"
      }
    },
    {
      "cell_type": "code",
      "source": [
        "ctr_df = pd.read_csv('Base_proyecto.csv')\n",
        "ctr_df.head()"
      ],
      "metadata": {
        "colab": {
          "base_uri": "https://localhost:8080/",
          "height": 270
        },
        "id": "GhWmtRR95tU0",
        "outputId": "4630d7c8-6e3e-4a9d-9e7e-4106daedc769"
      },
      "execution_count": 353,
      "outputs": [
        {
          "output_type": "execute_result",
          "data": {
            "text/html": [
              "\n",
              "  <div id=\"df-fb0d004e-75c0-4b27-8f9c-de1b9a2e245e\">\n",
              "    <div class=\"colab-df-container\">\n",
              "      <div>\n",
              "<style scoped>\n",
              "    .dataframe tbody tr th:only-of-type {\n",
              "        vertical-align: middle;\n",
              "    }\n",
              "\n",
              "    .dataframe tbody tr th {\n",
              "        vertical-align: top;\n",
              "    }\n",
              "\n",
              "    .dataframe thead th {\n",
              "        text-align: right;\n",
              "    }\n",
              "</style>\n",
              "<table border=\"1\" class=\"dataframe\">\n",
              "  <thead>\n",
              "    <tr style=\"text-align: right;\">\n",
              "      <th></th>\n",
              "      <th>id</th>\n",
              "      <th>ad_position</th>\n",
              "      <th>ad_size</th>\n",
              "      <th>hour_of_day_utc</th>\n",
              "      <th>inventory_source</th>\n",
              "      <th>platform_bandwidth</th>\n",
              "      <th>environment_type</th>\n",
              "      <th>platform_carrier</th>\n",
              "      <th>app_bundle</th>\n",
              "      <th>domain</th>\n",
              "      <th>clicks</th>\n",
              "      <th>impressions</th>\n",
              "      <th>ctr</th>\n",
              "    </tr>\n",
              "  </thead>\n",
              "  <tbody>\n",
              "    <tr>\n",
              "      <th>0</th>\n",
              "      <td>1</td>\n",
              "      <td>FULLSCREEN</td>\n",
              "      <td>320x480</td>\n",
              "      <td>21</td>\n",
              "      <td>UNITY</td>\n",
              "      <td>WIFI</td>\n",
              "      <td>APP</td>\n",
              "      <td>-1</td>\n",
              "      <td>Other</td>\n",
              "      <td>UNKNOWN</td>\n",
              "      <td>6</td>\n",
              "      <td>29</td>\n",
              "      <td>0.206897</td>\n",
              "    </tr>\n",
              "    <tr>\n",
              "      <th>1</th>\n",
              "      <td>2</td>\n",
              "      <td>FULLSCREEN</td>\n",
              "      <td>320x480</td>\n",
              "      <td>23</td>\n",
              "      <td>UNITY</td>\n",
              "      <td>WIFI</td>\n",
              "      <td>APP</td>\n",
              "      <td>-1</td>\n",
              "      <td>com.wordgame.puzzle.board.es</td>\n",
              "      <td>UNKNOWN</td>\n",
              "      <td>13</td>\n",
              "      <td>86</td>\n",
              "      <td>0.151163</td>\n",
              "    </tr>\n",
              "    <tr>\n",
              "      <th>2</th>\n",
              "      <td>3</td>\n",
              "      <td>0</td>\n",
              "      <td>320x480</td>\n",
              "      <td>23</td>\n",
              "      <td>OPERA_MEDIA</td>\n",
              "      <td>CELL_3G</td>\n",
              "      <td>APP</td>\n",
              "      <td>Claro</td>\n",
              "      <td>com.jamendoandoutly.mainpakkage</td>\n",
              "      <td>UNKNOWN</td>\n",
              "      <td>0</td>\n",
              "      <td>11</td>\n",
              "      <td>0.000000</td>\n",
              "    </tr>\n",
              "    <tr>\n",
              "      <th>3</th>\n",
              "      <td>4</td>\n",
              "      <td>FULLSCREEN</td>\n",
              "      <td>320x480</td>\n",
              "      <td>23</td>\n",
              "      <td>MOPUB</td>\n",
              "      <td>CELL_4G</td>\n",
              "      <td>APP</td>\n",
              "      <td>Movistar</td>\n",
              "      <td>com.drilens.wamr</td>\n",
              "      <td>UNKNOWN</td>\n",
              "      <td>0</td>\n",
              "      <td>38</td>\n",
              "      <td>0.000000</td>\n",
              "    </tr>\n",
              "    <tr>\n",
              "      <th>4</th>\n",
              "      <td>5</td>\n",
              "      <td>0</td>\n",
              "      <td>320x480</td>\n",
              "      <td>5</td>\n",
              "      <td>OPERA_MEDIA</td>\n",
              "      <td>WIFI</td>\n",
              "      <td>APP</td>\n",
              "      <td>Movistar</td>\n",
              "      <td>com.jam.endo</td>\n",
              "      <td>UNKNOWN</td>\n",
              "      <td>0</td>\n",
              "      <td>19</td>\n",
              "      <td>0.000000</td>\n",
              "    </tr>\n",
              "  </tbody>\n",
              "</table>\n",
              "</div>\n",
              "      <button class=\"colab-df-convert\" onclick=\"convertToInteractive('df-fb0d004e-75c0-4b27-8f9c-de1b9a2e245e')\"\n",
              "              title=\"Convert this dataframe to an interactive table.\"\n",
              "              style=\"display:none;\">\n",
              "        \n",
              "  <svg xmlns=\"http://www.w3.org/2000/svg\" height=\"24px\"viewBox=\"0 0 24 24\"\n",
              "       width=\"24px\">\n",
              "    <path d=\"M0 0h24v24H0V0z\" fill=\"none\"/>\n",
              "    <path d=\"M18.56 5.44l.94 2.06.94-2.06 2.06-.94-2.06-.94-.94-2.06-.94 2.06-2.06.94zm-11 1L8.5 8.5l.94-2.06 2.06-.94-2.06-.94L8.5 2.5l-.94 2.06-2.06.94zm10 10l.94 2.06.94-2.06 2.06-.94-2.06-.94-.94-2.06-.94 2.06-2.06.94z\"/><path d=\"M17.41 7.96l-1.37-1.37c-.4-.4-.92-.59-1.43-.59-.52 0-1.04.2-1.43.59L10.3 9.45l-7.72 7.72c-.78.78-.78 2.05 0 2.83L4 21.41c.39.39.9.59 1.41.59.51 0 1.02-.2 1.41-.59l7.78-7.78 2.81-2.81c.8-.78.8-2.07 0-2.86zM5.41 20L4 18.59l7.72-7.72 1.47 1.35L5.41 20z\"/>\n",
              "  </svg>\n",
              "      </button>\n",
              "      \n",
              "  <style>\n",
              "    .colab-df-container {\n",
              "      display:flex;\n",
              "      flex-wrap:wrap;\n",
              "      gap: 12px;\n",
              "    }\n",
              "\n",
              "    .colab-df-convert {\n",
              "      background-color: #E8F0FE;\n",
              "      border: none;\n",
              "      border-radius: 50%;\n",
              "      cursor: pointer;\n",
              "      display: none;\n",
              "      fill: #1967D2;\n",
              "      height: 32px;\n",
              "      padding: 0 0 0 0;\n",
              "      width: 32px;\n",
              "    }\n",
              "\n",
              "    .colab-df-convert:hover {\n",
              "      background-color: #E2EBFA;\n",
              "      box-shadow: 0px 1px 2px rgba(60, 64, 67, 0.3), 0px 1px 3px 1px rgba(60, 64, 67, 0.15);\n",
              "      fill: #174EA6;\n",
              "    }\n",
              "\n",
              "    [theme=dark] .colab-df-convert {\n",
              "      background-color: #3B4455;\n",
              "      fill: #D2E3FC;\n",
              "    }\n",
              "\n",
              "    [theme=dark] .colab-df-convert:hover {\n",
              "      background-color: #434B5C;\n",
              "      box-shadow: 0px 1px 3px 1px rgba(0, 0, 0, 0.15);\n",
              "      filter: drop-shadow(0px 1px 2px rgba(0, 0, 0, 0.3));\n",
              "      fill: #FFFFFF;\n",
              "    }\n",
              "  </style>\n",
              "\n",
              "      <script>\n",
              "        const buttonEl =\n",
              "          document.querySelector('#df-fb0d004e-75c0-4b27-8f9c-de1b9a2e245e button.colab-df-convert');\n",
              "        buttonEl.style.display =\n",
              "          google.colab.kernel.accessAllowed ? 'block' : 'none';\n",
              "\n",
              "        async function convertToInteractive(key) {\n",
              "          const element = document.querySelector('#df-fb0d004e-75c0-4b27-8f9c-de1b9a2e245e');\n",
              "          const dataTable =\n",
              "            await google.colab.kernel.invokeFunction('convertToInteractive',\n",
              "                                                     [key], {});\n",
              "          if (!dataTable) return;\n",
              "\n",
              "          const docLinkHtml = 'Like what you see? Visit the ' +\n",
              "            '<a target=\"_blank\" href=https://colab.research.google.com/notebooks/data_table.ipynb>data table notebook</a>'\n",
              "            + ' to learn more about interactive tables.';\n",
              "          element.innerHTML = '';\n",
              "          dataTable['output_type'] = 'display_data';\n",
              "          await google.colab.output.renderOutput(dataTable, element);\n",
              "          const docLink = document.createElement('div');\n",
              "          docLink.innerHTML = docLinkHtml;\n",
              "          element.appendChild(docLink);\n",
              "        }\n",
              "      </script>\n",
              "    </div>\n",
              "  </div>\n",
              "  "
            ],
            "text/plain": [
              "   id ad_position  ad_size  ...  clicks impressions       ctr\n",
              "0   1  FULLSCREEN  320x480  ...       6          29  0.206897\n",
              "1   2  FULLSCREEN  320x480  ...      13          86  0.151163\n",
              "2   3           0  320x480  ...       0          11  0.000000\n",
              "3   4  FULLSCREEN  320x480  ...       0          38  0.000000\n",
              "4   5           0  320x480  ...       0          19  0.000000\n",
              "\n",
              "[5 rows x 13 columns]"
            ]
          },
          "metadata": {},
          "execution_count": 353
        }
      ]
    },
    {
      "cell_type": "markdown",
      "source": [
        "Teniendo en cuenta las columnas de 'clicks' e 'impressions', se realiza el calculo de 'ctr' y se corrobora que los valores dados de ctr (con precision de 16 decimales) concurden con la división establecida."
      ],
      "metadata": {
        "id": "qsDxNJ1Roxvj"
      }
    },
    {
      "cell_type": "code",
      "source": [
        "filtered_df = pd.DataFrame()\n",
        "filtered_df['clicks'] = ctr_df['clicks']\n",
        "filtered_df['impressions'] = ctr_df['impressions']\n",
        "\n",
        "filtered_df['ctr_calculated'] = np.round(np.float64(filtered_df['clicks']/filtered_df['impressions']), 16)"
      ],
      "metadata": {
        "id": "oKN0N7aPk1rU"
      },
      "execution_count": 331,
      "outputs": []
    },
    {
      "cell_type": "code",
      "source": [
        "filtered_df['comparision'] = list(filtered_df['ctr_calculated'] == ctr_df['ctr'])"
      ],
      "metadata": {
        "id": "gLZoRPJ6lKm5"
      },
      "execution_count": 327,
      "outputs": []
    },
    {
      "cell_type": "code",
      "source": [
        "filtered_df[filtered_df['comparision'] == False]"
      ],
      "metadata": {
        "colab": {
          "base_uri": "https://localhost:8080/",
          "height": 424
        },
        "id": "_9m_Ra2XlZOB",
        "outputId": "5bb693cc-4efd-4b5a-ebbb-73ff3998078e"
      },
      "execution_count": 330,
      "outputs": [
        {
          "output_type": "execute_result",
          "data": {
            "text/html": [
              "\n",
              "  <div id=\"df-37b2f647-3dfd-46c6-a73d-3e8f09cdbd1c\">\n",
              "    <div class=\"colab-df-container\">\n",
              "      <div>\n",
              "<style scoped>\n",
              "    .dataframe tbody tr th:only-of-type {\n",
              "        vertical-align: middle;\n",
              "    }\n",
              "\n",
              "    .dataframe tbody tr th {\n",
              "        vertical-align: top;\n",
              "    }\n",
              "\n",
              "    .dataframe thead th {\n",
              "        text-align: right;\n",
              "    }\n",
              "</style>\n",
              "<table border=\"1\" class=\"dataframe\">\n",
              "  <thead>\n",
              "    <tr style=\"text-align: right;\">\n",
              "      <th></th>\n",
              "      <th>clicks</th>\n",
              "      <th>impressions</th>\n",
              "      <th>ctr_calculated</th>\n",
              "      <th>comparision</th>\n",
              "    </tr>\n",
              "  </thead>\n",
              "  <tbody>\n",
              "    <tr>\n",
              "      <th>11</th>\n",
              "      <td>2</td>\n",
              "      <td>65</td>\n",
              "      <td>0.030769</td>\n",
              "      <td>False</td>\n",
              "    </tr>\n",
              "    <tr>\n",
              "      <th>17</th>\n",
              "      <td>1</td>\n",
              "      <td>18</td>\n",
              "      <td>0.055556</td>\n",
              "      <td>False</td>\n",
              "    </tr>\n",
              "    <tr>\n",
              "      <th>18</th>\n",
              "      <td>3</td>\n",
              "      <td>287</td>\n",
              "      <td>0.010453</td>\n",
              "      <td>False</td>\n",
              "    </tr>\n",
              "    <tr>\n",
              "      <th>20</th>\n",
              "      <td>3</td>\n",
              "      <td>14</td>\n",
              "      <td>0.214286</td>\n",
              "      <td>False</td>\n",
              "    </tr>\n",
              "    <tr>\n",
              "      <th>33</th>\n",
              "      <td>4</td>\n",
              "      <td>110</td>\n",
              "      <td>0.036364</td>\n",
              "      <td>False</td>\n",
              "    </tr>\n",
              "    <tr>\n",
              "      <th>...</th>\n",
              "      <td>...</td>\n",
              "      <td>...</td>\n",
              "      <td>...</td>\n",
              "      <td>...</td>\n",
              "    </tr>\n",
              "    <tr>\n",
              "      <th>30712</th>\n",
              "      <td>3</td>\n",
              "      <td>7</td>\n",
              "      <td>0.428571</td>\n",
              "      <td>False</td>\n",
              "    </tr>\n",
              "    <tr>\n",
              "      <th>30772</th>\n",
              "      <td>3</td>\n",
              "      <td>7</td>\n",
              "      <td>0.428571</td>\n",
              "      <td>False</td>\n",
              "    </tr>\n",
              "    <tr>\n",
              "      <th>30871</th>\n",
              "      <td>3</td>\n",
              "      <td>7</td>\n",
              "      <td>0.428571</td>\n",
              "      <td>False</td>\n",
              "    </tr>\n",
              "    <tr>\n",
              "      <th>30898</th>\n",
              "      <td>3</td>\n",
              "      <td>7</td>\n",
              "      <td>0.428571</td>\n",
              "      <td>False</td>\n",
              "    </tr>\n",
              "    <tr>\n",
              "      <th>30947</th>\n",
              "      <td>3</td>\n",
              "      <td>7</td>\n",
              "      <td>0.428571</td>\n",
              "      <td>False</td>\n",
              "    </tr>\n",
              "  </tbody>\n",
              "</table>\n",
              "<p>2383 rows × 4 columns</p>\n",
              "</div>\n",
              "      <button class=\"colab-df-convert\" onclick=\"convertToInteractive('df-37b2f647-3dfd-46c6-a73d-3e8f09cdbd1c')\"\n",
              "              title=\"Convert this dataframe to an interactive table.\"\n",
              "              style=\"display:none;\">\n",
              "        \n",
              "  <svg xmlns=\"http://www.w3.org/2000/svg\" height=\"24px\"viewBox=\"0 0 24 24\"\n",
              "       width=\"24px\">\n",
              "    <path d=\"M0 0h24v24H0V0z\" fill=\"none\"/>\n",
              "    <path d=\"M18.56 5.44l.94 2.06.94-2.06 2.06-.94-2.06-.94-.94-2.06-.94 2.06-2.06.94zm-11 1L8.5 8.5l.94-2.06 2.06-.94-2.06-.94L8.5 2.5l-.94 2.06-2.06.94zm10 10l.94 2.06.94-2.06 2.06-.94-2.06-.94-.94-2.06-.94 2.06-2.06.94z\"/><path d=\"M17.41 7.96l-1.37-1.37c-.4-.4-.92-.59-1.43-.59-.52 0-1.04.2-1.43.59L10.3 9.45l-7.72 7.72c-.78.78-.78 2.05 0 2.83L4 21.41c.39.39.9.59 1.41.59.51 0 1.02-.2 1.41-.59l7.78-7.78 2.81-2.81c.8-.78.8-2.07 0-2.86zM5.41 20L4 18.59l7.72-7.72 1.47 1.35L5.41 20z\"/>\n",
              "  </svg>\n",
              "      </button>\n",
              "      \n",
              "  <style>\n",
              "    .colab-df-container {\n",
              "      display:flex;\n",
              "      flex-wrap:wrap;\n",
              "      gap: 12px;\n",
              "    }\n",
              "\n",
              "    .colab-df-convert {\n",
              "      background-color: #E8F0FE;\n",
              "      border: none;\n",
              "      border-radius: 50%;\n",
              "      cursor: pointer;\n",
              "      display: none;\n",
              "      fill: #1967D2;\n",
              "      height: 32px;\n",
              "      padding: 0 0 0 0;\n",
              "      width: 32px;\n",
              "    }\n",
              "\n",
              "    .colab-df-convert:hover {\n",
              "      background-color: #E2EBFA;\n",
              "      box-shadow: 0px 1px 2px rgba(60, 64, 67, 0.3), 0px 1px 3px 1px rgba(60, 64, 67, 0.15);\n",
              "      fill: #174EA6;\n",
              "    }\n",
              "\n",
              "    [theme=dark] .colab-df-convert {\n",
              "      background-color: #3B4455;\n",
              "      fill: #D2E3FC;\n",
              "    }\n",
              "\n",
              "    [theme=dark] .colab-df-convert:hover {\n",
              "      background-color: #434B5C;\n",
              "      box-shadow: 0px 1px 3px 1px rgba(0, 0, 0, 0.15);\n",
              "      filter: drop-shadow(0px 1px 2px rgba(0, 0, 0, 0.3));\n",
              "      fill: #FFFFFF;\n",
              "    }\n",
              "  </style>\n",
              "\n",
              "      <script>\n",
              "        const buttonEl =\n",
              "          document.querySelector('#df-37b2f647-3dfd-46c6-a73d-3e8f09cdbd1c button.colab-df-convert');\n",
              "        buttonEl.style.display =\n",
              "          google.colab.kernel.accessAllowed ? 'block' : 'none';\n",
              "\n",
              "        async function convertToInteractive(key) {\n",
              "          const element = document.querySelector('#df-37b2f647-3dfd-46c6-a73d-3e8f09cdbd1c');\n",
              "          const dataTable =\n",
              "            await google.colab.kernel.invokeFunction('convertToInteractive',\n",
              "                                                     [key], {});\n",
              "          if (!dataTable) return;\n",
              "\n",
              "          const docLinkHtml = 'Like what you see? Visit the ' +\n",
              "            '<a target=\"_blank\" href=https://colab.research.google.com/notebooks/data_table.ipynb>data table notebook</a>'\n",
              "            + ' to learn more about interactive tables.';\n",
              "          element.innerHTML = '';\n",
              "          dataTable['output_type'] = 'display_data';\n",
              "          await google.colab.output.renderOutput(dataTable, element);\n",
              "          const docLink = document.createElement('div');\n",
              "          docLink.innerHTML = docLinkHtml;\n",
              "          element.appendChild(docLink);\n",
              "        }\n",
              "      </script>\n",
              "    </div>\n",
              "  </div>\n",
              "  "
            ],
            "text/plain": [
              "       clicks  impressions  ctr_calculated  comparision\n",
              "11          2           65        0.030769        False\n",
              "17          1           18        0.055556        False\n",
              "18          3          287        0.010453        False\n",
              "20          3           14        0.214286        False\n",
              "33          4          110        0.036364        False\n",
              "...       ...          ...             ...          ...\n",
              "30712       3            7        0.428571        False\n",
              "30772       3            7        0.428571        False\n",
              "30871       3            7        0.428571        False\n",
              "30898       3            7        0.428571        False\n",
              "30947       3            7        0.428571        False\n",
              "\n",
              "[2383 rows x 4 columns]"
            ]
          },
          "metadata": {},
          "execution_count": 330
        }
      ]
    },
    {
      "cell_type": "markdown",
      "source": [
        "Dado que la formula de CTR = clicks/impressions, nuestro modelo no puede utiliar estos features como entradas."
      ],
      "metadata": {
        "id": "q3v01KMAG6m-"
      }
    },
    {
      "cell_type": "code",
      "source": [
        "ctr_df.drop(columns = ['id', 'clicks', 'impressions'], inplace = True)"
      ],
      "metadata": {
        "id": "gzH__ERzHK0t"
      },
      "execution_count": 15,
      "outputs": []
    },
    {
      "cell_type": "code",
      "source": [
        "ctr_df.head()"
      ],
      "metadata": {
        "colab": {
          "base_uri": "https://localhost:8080/",
          "height": 270
        },
        "id": "Eb2L_YwUHhDn",
        "outputId": "72f06d24-42f6-4361-bebf-24202e64bced"
      },
      "execution_count": 17,
      "outputs": [
        {
          "output_type": "execute_result",
          "data": {
            "text/html": [
              "\n",
              "  <div id=\"df-6d65d67e-603a-43bf-97b8-03fca7d08c68\">\n",
              "    <div class=\"colab-df-container\">\n",
              "      <div>\n",
              "<style scoped>\n",
              "    .dataframe tbody tr th:only-of-type {\n",
              "        vertical-align: middle;\n",
              "    }\n",
              "\n",
              "    .dataframe tbody tr th {\n",
              "        vertical-align: top;\n",
              "    }\n",
              "\n",
              "    .dataframe thead th {\n",
              "        text-align: right;\n",
              "    }\n",
              "</style>\n",
              "<table border=\"1\" class=\"dataframe\">\n",
              "  <thead>\n",
              "    <tr style=\"text-align: right;\">\n",
              "      <th></th>\n",
              "      <th>ad_position</th>\n",
              "      <th>ad_size</th>\n",
              "      <th>hour_of_day_utc</th>\n",
              "      <th>inventory_source</th>\n",
              "      <th>platform_bandwidth</th>\n",
              "      <th>environment_type</th>\n",
              "      <th>platform_carrier</th>\n",
              "      <th>app_bundle</th>\n",
              "      <th>domain</th>\n",
              "      <th>ctr</th>\n",
              "    </tr>\n",
              "  </thead>\n",
              "  <tbody>\n",
              "    <tr>\n",
              "      <th>0</th>\n",
              "      <td>FULLSCREEN</td>\n",
              "      <td>320x480</td>\n",
              "      <td>21</td>\n",
              "      <td>UNITY</td>\n",
              "      <td>WIFI</td>\n",
              "      <td>APP</td>\n",
              "      <td>-1</td>\n",
              "      <td>Other</td>\n",
              "      <td>UNKNOWN</td>\n",
              "      <td>0.206897</td>\n",
              "    </tr>\n",
              "    <tr>\n",
              "      <th>1</th>\n",
              "      <td>FULLSCREEN</td>\n",
              "      <td>320x480</td>\n",
              "      <td>23</td>\n",
              "      <td>UNITY</td>\n",
              "      <td>WIFI</td>\n",
              "      <td>APP</td>\n",
              "      <td>-1</td>\n",
              "      <td>com.wordgame.puzzle.board.es</td>\n",
              "      <td>UNKNOWN</td>\n",
              "      <td>0.151163</td>\n",
              "    </tr>\n",
              "    <tr>\n",
              "      <th>2</th>\n",
              "      <td>0</td>\n",
              "      <td>320x480</td>\n",
              "      <td>23</td>\n",
              "      <td>OPERA_MEDIA</td>\n",
              "      <td>CELL_3G</td>\n",
              "      <td>APP</td>\n",
              "      <td>Claro</td>\n",
              "      <td>com.jamendoandoutly.mainpakkage</td>\n",
              "      <td>UNKNOWN</td>\n",
              "      <td>0.000000</td>\n",
              "    </tr>\n",
              "    <tr>\n",
              "      <th>3</th>\n",
              "      <td>FULLSCREEN</td>\n",
              "      <td>320x480</td>\n",
              "      <td>23</td>\n",
              "      <td>MOPUB</td>\n",
              "      <td>CELL_4G</td>\n",
              "      <td>APP</td>\n",
              "      <td>Movistar</td>\n",
              "      <td>com.drilens.wamr</td>\n",
              "      <td>UNKNOWN</td>\n",
              "      <td>0.000000</td>\n",
              "    </tr>\n",
              "    <tr>\n",
              "      <th>4</th>\n",
              "      <td>0</td>\n",
              "      <td>320x480</td>\n",
              "      <td>5</td>\n",
              "      <td>OPERA_MEDIA</td>\n",
              "      <td>WIFI</td>\n",
              "      <td>APP</td>\n",
              "      <td>Movistar</td>\n",
              "      <td>com.jam.endo</td>\n",
              "      <td>UNKNOWN</td>\n",
              "      <td>0.000000</td>\n",
              "    </tr>\n",
              "  </tbody>\n",
              "</table>\n",
              "</div>\n",
              "      <button class=\"colab-df-convert\" onclick=\"convertToInteractive('df-6d65d67e-603a-43bf-97b8-03fca7d08c68')\"\n",
              "              title=\"Convert this dataframe to an interactive table.\"\n",
              "              style=\"display:none;\">\n",
              "        \n",
              "  <svg xmlns=\"http://www.w3.org/2000/svg\" height=\"24px\"viewBox=\"0 0 24 24\"\n",
              "       width=\"24px\">\n",
              "    <path d=\"M0 0h24v24H0V0z\" fill=\"none\"/>\n",
              "    <path d=\"M18.56 5.44l.94 2.06.94-2.06 2.06-.94-2.06-.94-.94-2.06-.94 2.06-2.06.94zm-11 1L8.5 8.5l.94-2.06 2.06-.94-2.06-.94L8.5 2.5l-.94 2.06-2.06.94zm10 10l.94 2.06.94-2.06 2.06-.94-2.06-.94-.94-2.06-.94 2.06-2.06.94z\"/><path d=\"M17.41 7.96l-1.37-1.37c-.4-.4-.92-.59-1.43-.59-.52 0-1.04.2-1.43.59L10.3 9.45l-7.72 7.72c-.78.78-.78 2.05 0 2.83L4 21.41c.39.39.9.59 1.41.59.51 0 1.02-.2 1.41-.59l7.78-7.78 2.81-2.81c.8-.78.8-2.07 0-2.86zM5.41 20L4 18.59l7.72-7.72 1.47 1.35L5.41 20z\"/>\n",
              "  </svg>\n",
              "      </button>\n",
              "      \n",
              "  <style>\n",
              "    .colab-df-container {\n",
              "      display:flex;\n",
              "      flex-wrap:wrap;\n",
              "      gap: 12px;\n",
              "    }\n",
              "\n",
              "    .colab-df-convert {\n",
              "      background-color: #E8F0FE;\n",
              "      border: none;\n",
              "      border-radius: 50%;\n",
              "      cursor: pointer;\n",
              "      display: none;\n",
              "      fill: #1967D2;\n",
              "      height: 32px;\n",
              "      padding: 0 0 0 0;\n",
              "      width: 32px;\n",
              "    }\n",
              "\n",
              "    .colab-df-convert:hover {\n",
              "      background-color: #E2EBFA;\n",
              "      box-shadow: 0px 1px 2px rgba(60, 64, 67, 0.3), 0px 1px 3px 1px rgba(60, 64, 67, 0.15);\n",
              "      fill: #174EA6;\n",
              "    }\n",
              "\n",
              "    [theme=dark] .colab-df-convert {\n",
              "      background-color: #3B4455;\n",
              "      fill: #D2E3FC;\n",
              "    }\n",
              "\n",
              "    [theme=dark] .colab-df-convert:hover {\n",
              "      background-color: #434B5C;\n",
              "      box-shadow: 0px 1px 3px 1px rgba(0, 0, 0, 0.15);\n",
              "      filter: drop-shadow(0px 1px 2px rgba(0, 0, 0, 0.3));\n",
              "      fill: #FFFFFF;\n",
              "    }\n",
              "  </style>\n",
              "\n",
              "      <script>\n",
              "        const buttonEl =\n",
              "          document.querySelector('#df-6d65d67e-603a-43bf-97b8-03fca7d08c68 button.colab-df-convert');\n",
              "        buttonEl.style.display =\n",
              "          google.colab.kernel.accessAllowed ? 'block' : 'none';\n",
              "\n",
              "        async function convertToInteractive(key) {\n",
              "          const element = document.querySelector('#df-6d65d67e-603a-43bf-97b8-03fca7d08c68');\n",
              "          const dataTable =\n",
              "            await google.colab.kernel.invokeFunction('convertToInteractive',\n",
              "                                                     [key], {});\n",
              "          if (!dataTable) return;\n",
              "\n",
              "          const docLinkHtml = 'Like what you see? Visit the ' +\n",
              "            '<a target=\"_blank\" href=https://colab.research.google.com/notebooks/data_table.ipynb>data table notebook</a>'\n",
              "            + ' to learn more about interactive tables.';\n",
              "          element.innerHTML = '';\n",
              "          dataTable['output_type'] = 'display_data';\n",
              "          await google.colab.output.renderOutput(dataTable, element);\n",
              "          const docLink = document.createElement('div');\n",
              "          docLink.innerHTML = docLinkHtml;\n",
              "          element.appendChild(docLink);\n",
              "        }\n",
              "      </script>\n",
              "    </div>\n",
              "  </div>\n",
              "  "
            ],
            "text/plain": [
              "  ad_position  ad_size  ...   domain       ctr\n",
              "0  FULLSCREEN  320x480  ...  UNKNOWN  0.206897\n",
              "1  FULLSCREEN  320x480  ...  UNKNOWN  0.151163\n",
              "2           0  320x480  ...  UNKNOWN  0.000000\n",
              "3  FULLSCREEN  320x480  ...  UNKNOWN  0.000000\n",
              "4           0  320x480  ...  UNKNOWN  0.000000\n",
              "\n",
              "[5 rows x 10 columns]"
            ]
          },
          "metadata": {},
          "execution_count": 17
        }
      ]
    },
    {
      "cell_type": "code",
      "source": [
        "ctr_stats = tfdv.generate_statistics_from_dataframe(ctr_df)\n",
        "\n",
        "# Visualization of Raw Data\n",
        "tfdv.visualize_statistics(ctr_stats)"
      ],
      "metadata": {
        "colab": {
          "base_uri": "https://localhost:8080/",
          "height": 1000
        },
        "id": "iYJiTwte54qc",
        "outputId": "b60cbf92-0b7c-4c33-d4c1-610281421bb4"
      },
      "execution_count": 19,
      "outputs": [
        {
          "output_type": "display_data",
          "data": {
            "text/html": [
              "<iframe id='facets-iframe' width=\"100%\" height=\"500px\"></iframe>\n",
              "        <script>\n",
              "        facets_iframe = document.getElementById('facets-iframe');\n",
              "        facets_html = '<script src=\"https://cdnjs.cloudflare.com/ajax/libs/webcomponentsjs/1.3.3/webcomponents-lite.js\"><\\/script><link rel=\"import\" href=\"https://raw.githubusercontent.com/PAIR-code/facets/master/facets-dist/facets-jupyter.html\"><facets-overview proto-input=\"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\"></facets-overview>';\n",
              "        facets_iframe.srcdoc = facets_html;\n",
              "         facets_iframe.id = \"\";\n",
              "         setTimeout(() => {\n",
              "           facets_iframe.setAttribute('height', facets_iframe.contentWindow.document.body.offsetHeight + 'px')\n",
              "         }, 1500)\n",
              "         </script>"
            ],
            "text/plain": [
              "<IPython.core.display.HTML object>"
            ]
          },
          "metadata": {}
        }
      ]
    },
    {
      "cell_type": "code",
      "source": [
        "# Schema\n",
        "ctr_schema = tfdv.infer_schema(statistics=ctr_stats)\n",
        "tfdv.display_schema(ctr_schema)"
      ],
      "metadata": {
        "colab": {
          "base_uri": "https://localhost:8080/",
          "height": 1000
        },
        "id": "uZgaz-Qm6yPy",
        "outputId": "2a705650-183d-4c42-ab46-2c102cf4fae7"
      },
      "execution_count": 21,
      "outputs": [
        {
          "output_type": "display_data",
          "data": {
            "text/html": [
              "\n",
              "  <div id=\"df-ac6721bd-be14-4dd8-983f-b699538307db\">\n",
              "    <div class=\"colab-df-container\">\n",
              "      <div>\n",
              "<style scoped>\n",
              "    .dataframe tbody tr th:only-of-type {\n",
              "        vertical-align: middle;\n",
              "    }\n",
              "\n",
              "    .dataframe tbody tr th {\n",
              "        vertical-align: top;\n",
              "    }\n",
              "\n",
              "    .dataframe thead th {\n",
              "        text-align: right;\n",
              "    }\n",
              "</style>\n",
              "<table border=\"1\" class=\"dataframe\">\n",
              "  <thead>\n",
              "    <tr style=\"text-align: right;\">\n",
              "      <th></th>\n",
              "      <th>Type</th>\n",
              "      <th>Presence</th>\n",
              "      <th>Valency</th>\n",
              "      <th>Domain</th>\n",
              "    </tr>\n",
              "    <tr>\n",
              "      <th>Feature name</th>\n",
              "      <th></th>\n",
              "      <th></th>\n",
              "      <th></th>\n",
              "      <th></th>\n",
              "    </tr>\n",
              "  </thead>\n",
              "  <tbody>\n",
              "    <tr>\n",
              "      <th>'ad_position'</th>\n",
              "      <td>STRING</td>\n",
              "      <td>required</td>\n",
              "      <td></td>\n",
              "      <td>'ad_position'</td>\n",
              "    </tr>\n",
              "    <tr>\n",
              "      <th>'ad_size'</th>\n",
              "      <td>STRING</td>\n",
              "      <td>required</td>\n",
              "      <td></td>\n",
              "      <td>'ad_size'</td>\n",
              "    </tr>\n",
              "    <tr>\n",
              "      <th>'hour_of_day_utc'</th>\n",
              "      <td>INT</td>\n",
              "      <td>required</td>\n",
              "      <td></td>\n",
              "      <td>-</td>\n",
              "    </tr>\n",
              "    <tr>\n",
              "      <th>'inventory_source'</th>\n",
              "      <td>STRING</td>\n",
              "      <td>required</td>\n",
              "      <td></td>\n",
              "      <td>'inventory_source'</td>\n",
              "    </tr>\n",
              "    <tr>\n",
              "      <th>'platform_bandwidth'</th>\n",
              "      <td>STRING</td>\n",
              "      <td>required</td>\n",
              "      <td></td>\n",
              "      <td>'platform_bandwidth'</td>\n",
              "    </tr>\n",
              "    <tr>\n",
              "      <th>'environment_type'</th>\n",
              "      <td>STRING</td>\n",
              "      <td>required</td>\n",
              "      <td></td>\n",
              "      <td>'environment_type'</td>\n",
              "    </tr>\n",
              "    <tr>\n",
              "      <th>'platform_carrier'</th>\n",
              "      <td>STRING</td>\n",
              "      <td>required</td>\n",
              "      <td></td>\n",
              "      <td>'platform_carrier'</td>\n",
              "    </tr>\n",
              "    <tr>\n",
              "      <th>'app_bundle'</th>\n",
              "      <td>STRING</td>\n",
              "      <td>required</td>\n",
              "      <td></td>\n",
              "      <td>'app_bundle'</td>\n",
              "    </tr>\n",
              "    <tr>\n",
              "      <th>'domain'</th>\n",
              "      <td>STRING</td>\n",
              "      <td>required</td>\n",
              "      <td></td>\n",
              "      <td>'domain'</td>\n",
              "    </tr>\n",
              "    <tr>\n",
              "      <th>'ctr'</th>\n",
              "      <td>FLOAT</td>\n",
              "      <td>required</td>\n",
              "      <td></td>\n",
              "      <td>-</td>\n",
              "    </tr>\n",
              "  </tbody>\n",
              "</table>\n",
              "</div>\n",
              "      <button class=\"colab-df-convert\" onclick=\"convertToInteractive('df-ac6721bd-be14-4dd8-983f-b699538307db')\"\n",
              "              title=\"Convert this dataframe to an interactive table.\"\n",
              "              style=\"display:none;\">\n",
              "        \n",
              "  <svg xmlns=\"http://www.w3.org/2000/svg\" height=\"24px\"viewBox=\"0 0 24 24\"\n",
              "       width=\"24px\">\n",
              "    <path d=\"M0 0h24v24H0V0z\" fill=\"none\"/>\n",
              "    <path d=\"M18.56 5.44l.94 2.06.94-2.06 2.06-.94-2.06-.94-.94-2.06-.94 2.06-2.06.94zm-11 1L8.5 8.5l.94-2.06 2.06-.94-2.06-.94L8.5 2.5l-.94 2.06-2.06.94zm10 10l.94 2.06.94-2.06 2.06-.94-2.06-.94-.94-2.06-.94 2.06-2.06.94z\"/><path d=\"M17.41 7.96l-1.37-1.37c-.4-.4-.92-.59-1.43-.59-.52 0-1.04.2-1.43.59L10.3 9.45l-7.72 7.72c-.78.78-.78 2.05 0 2.83L4 21.41c.39.39.9.59 1.41.59.51 0 1.02-.2 1.41-.59l7.78-7.78 2.81-2.81c.8-.78.8-2.07 0-2.86zM5.41 20L4 18.59l7.72-7.72 1.47 1.35L5.41 20z\"/>\n",
              "  </svg>\n",
              "      </button>\n",
              "      \n",
              "  <style>\n",
              "    .colab-df-container {\n",
              "      display:flex;\n",
              "      flex-wrap:wrap;\n",
              "      gap: 12px;\n",
              "    }\n",
              "\n",
              "    .colab-df-convert {\n",
              "      background-color: #E8F0FE;\n",
              "      border: none;\n",
              "      border-radius: 50%;\n",
              "      cursor: pointer;\n",
              "      display: none;\n",
              "      fill: #1967D2;\n",
              "      height: 32px;\n",
              "      padding: 0 0 0 0;\n",
              "      width: 32px;\n",
              "    }\n",
              "\n",
              "    .colab-df-convert:hover {\n",
              "      background-color: #E2EBFA;\n",
              "      box-shadow: 0px 1px 2px rgba(60, 64, 67, 0.3), 0px 1px 3px 1px rgba(60, 64, 67, 0.15);\n",
              "      fill: #174EA6;\n",
              "    }\n",
              "\n",
              "    [theme=dark] .colab-df-convert {\n",
              "      background-color: #3B4455;\n",
              "      fill: #D2E3FC;\n",
              "    }\n",
              "\n",
              "    [theme=dark] .colab-df-convert:hover {\n",
              "      background-color: #434B5C;\n",
              "      box-shadow: 0px 1px 3px 1px rgba(0, 0, 0, 0.15);\n",
              "      filter: drop-shadow(0px 1px 2px rgba(0, 0, 0, 0.3));\n",
              "      fill: #FFFFFF;\n",
              "    }\n",
              "  </style>\n",
              "\n",
              "      <script>\n",
              "        const buttonEl =\n",
              "          document.querySelector('#df-ac6721bd-be14-4dd8-983f-b699538307db button.colab-df-convert');\n",
              "        buttonEl.style.display =\n",
              "          google.colab.kernel.accessAllowed ? 'block' : 'none';\n",
              "\n",
              "        async function convertToInteractive(key) {\n",
              "          const element = document.querySelector('#df-ac6721bd-be14-4dd8-983f-b699538307db');\n",
              "          const dataTable =\n",
              "            await google.colab.kernel.invokeFunction('convertToInteractive',\n",
              "                                                     [key], {});\n",
              "          if (!dataTable) return;\n",
              "\n",
              "          const docLinkHtml = 'Like what you see? Visit the ' +\n",
              "            '<a target=\"_blank\" href=https://colab.research.google.com/notebooks/data_table.ipynb>data table notebook</a>'\n",
              "            + ' to learn more about interactive tables.';\n",
              "          element.innerHTML = '';\n",
              "          dataTable['output_type'] = 'display_data';\n",
              "          await google.colab.output.renderOutput(dataTable, element);\n",
              "          const docLink = document.createElement('div');\n",
              "          docLink.innerHTML = docLinkHtml;\n",
              "          element.appendChild(docLink);\n",
              "        }\n",
              "      </script>\n",
              "    </div>\n",
              "  </div>\n",
              "  "
            ],
            "text/plain": [
              "                        Type  Presence Valency                Domain\n",
              "Feature name                                                        \n",
              "'ad_position'         STRING  required                 'ad_position'\n",
              "'ad_size'             STRING  required                     'ad_size'\n",
              "'hour_of_day_utc'        INT  required                             -\n",
              "'inventory_source'    STRING  required            'inventory_source'\n",
              "'platform_bandwidth'  STRING  required          'platform_bandwidth'\n",
              "'environment_type'    STRING  required            'environment_type'\n",
              "'platform_carrier'    STRING  required            'platform_carrier'\n",
              "'app_bundle'          STRING  required                  'app_bundle'\n",
              "'domain'              STRING  required                      'domain'\n",
              "'ctr'                  FLOAT  required                             -"
            ]
          },
          "metadata": {}
        },
        {
          "output_type": "display_data",
          "data": {
            "text/html": [
              "\n",
              "  <div id=\"df-b2567567-aa89-426e-b1f4-b5dd767fc083\">\n",
              "    <div class=\"colab-df-container\">\n",
              "      <div>\n",
              "<style scoped>\n",
              "    .dataframe tbody tr th:only-of-type {\n",
              "        vertical-align: middle;\n",
              "    }\n",
              "\n",
              "    .dataframe tbody tr th {\n",
              "        vertical-align: top;\n",
              "    }\n",
              "\n",
              "    .dataframe thead th {\n",
              "        text-align: right;\n",
              "    }\n",
              "</style>\n",
              "<table border=\"1\" class=\"dataframe\">\n",
              "  <thead>\n",
              "    <tr style=\"text-align: right;\">\n",
              "      <th></th>\n",
              "      <th>Values</th>\n",
              "    </tr>\n",
              "    <tr>\n",
              "      <th>Domain</th>\n",
              "      <th></th>\n",
              "    </tr>\n",
              "  </thead>\n",
              "  <tbody>\n",
              "    <tr>\n",
              "      <th>'ad_position'</th>\n",
              "      <td>'0', 'ABOVE_THE_FOLD', 'BELOW_THE_FOLD', 'FOOTER', 'FULLSCREEN', 'HEADER', 'POSITION_UNKNOWN'</td>\n",
              "    </tr>\n",
              "    <tr>\n",
              "      <th>'ad_size'</th>\n",
              "      <td>'-1x-1', '160x600', '1x1', '250x250', '256x192', '300x100', '300x250', '300x480', '300x50', '300x600', '320x100', '320x480', '320x50', '320x568', '320x570', '336x280', '360x56', '360x592', '360x598', '360x640', '360x703', '370x58', '375x667', '400x824', '411x64', '412x790', '412x814', '414x736', '424x808', '480x320', '728x90', '768x1024'</td>\n",
              "    </tr>\n",
              "    <tr>\n",
              "      <th>'inventory_source'</th>\n",
              "      <td>'APPNEXUS', 'CRITEO', 'GOOGLE_ADX', 'INMOBI', 'INNERACTIVE', 'MILLENNIAL', 'MOPUB', 'OPENX', 'OPERA_MEDIA', 'RICHAUDIENCE', 'RUBICON', 'SMARTADSERVER', 'TRIPLELIFT', 'UNITY', 'UNRULYX', 'VERVE'</td>\n",
              "    </tr>\n",
              "    <tr>\n",
              "      <th>'platform_bandwidth'</th>\n",
              "      <td>'CELL_2G', 'CELL_3G', 'CELL_4G', 'CELL_UNKNOWN', 'CONNECTION_UNKNOWN', 'ETHERNET', 'UNKNOWN', 'WIFI'</td>\n",
              "    </tr>\n",
              "    <tr>\n",
              "      <th>'environment_type'</th>\n",
              "      <td>'APP', 'UNKNOWN', 'WEB'</td>\n",
              "    </tr>\n",
              "    <tr>\n",
              "      <th>'platform_carrier'</th>\n",
              "      <td>'-1', 'Avantel ', 'Claro', 'Movistar', 'Tigo'</td>\n",
              "    </tr>\n",
              "    <tr>\n",
              "      <th>'app_bundle'</th>\n",
              "      <td>'1524620009', '1533452966', 'Other', 'UNKNOWN', 'air.com.aceviral.motox3m', 'air.com.jogatina.domino.android', 'aplicaciones.paleta.alterlegionanime', 'aplicaciones.paleta.legionanimeday', 'aplicaciones.paleta.legionanimefull', 'aplicaciones.paleta.legionanimexs', 'bubble.shooter.shooting.shoot.game', 'cjvg.santabiblia', 'cn.wps.moffice_eng', 'coloring.color.number.happy.paint.art.drawing.puzzle', 'com.LoopGames.Domino', 'com.TeryBit.TeryBit', 'com.app.romansl.skvishy', 'com.bigcool.puzzle.fruitgenies', 'com.callapp.contacts', 'com.cyberlink.youcammakeup', 'com.cyberlink.youperfect', 'com.digitalproshare.filmapp', 'com.dogs.nine', 'com.drilens.wamr', 'com.dropdom.blockpuzzle.hwwgame', 'com.dualspace.multispace.android', 'com.dvex.movp', 'com.filmlegacy.slupaf', 'com.finecameffect.fortyfunseven', 'com.firsttouchgames.dls7', 'com.firsttouchgames.hero2', 'com.firsttouchgames.smp', 'com.fugo.wow', 'com.fungameplus.smartrope', 'com.gameeapp.android.app', 'com.gammalab.chessopenings', 'com.hafert.ImposterAssassin', 'com.higgs.cubemaster3d', 'com.jam.endo', 'com.jamendoandoutly.mainpakkage', 'com.linkdesks.iBubble', 'com.ludashi.dualspace', 'com.mars.avgchapters', 'com.merge.cat.paradise', 'com.merge.cube.winner', 'com.mintgames.triplecrush.tile.fun', 'com.mobz.vd.in', 'com.mojang.minecraftvr', 'com.movinapp.dict.frde.free', 'com.movinapp.dict.french.free', 'com.movinapp.dict.frit.free', 'com.movinapp.facts.science', 'com.musicops.vanillamusicdownload', 'com.musicplayer.playermusic', 'com.olx.olx', 'com.rahul.videoderbeta', 'com.sanhe.clipclaps', 'com.snowcorp.stickerly.android', 'com.solitaire.spider.patience.ocean.aquarium', 'com.sukhavati.gotoplaying.bubble.BubbleShooter.mint', 'com.superbox.aos.fire2048', 'com.sweetfuirt.candy', 'com.tilemaster.puzzle.block.match', 'com.tripledot.woodoku', 'com.vs.bhaktiringtone', 'com.wordgame.puzzle.board.es', 'com.wordgame.puzzle.resort.story', 'com.zareklamy', 'el.tio', 'fast.phone.clean', 'fluffyslime.swoimi.rukami', 'futbol.play', 'games.spearmint.matchanimal', 'games.spearmint.triplecrush', 'link.merge.puzzle.onnect.number', 'mobi.mangatoon.comics.aphone.spanish', 'mobi.mangatoon.novel.portuguese', 'mod.craftgame.minigame', 'music.musicplayer', 'org.majestic.congratulation', 'phone.cleaner.speed.booster.cache.clean.android.master', 'tm.alarm.clock', 'tv.mxliptv.app', 'video.downloaderforinstagram.photodownloader.repost', 'videoeditor.videorecorder.screenrecorder', 'vmd.windowphotoeditor'</td>\n",
              "    </tr>\n",
              "    <tr>\n",
              "      <th>'domain'</th>\n",
              "      <td>'Other', 'UNKNOWN', 'absolutelyconnected.com', 'ahoramismo.com', 'aminoapps.com', 'ask.fm', 'autogestionatusalud.com', 'b612.snow.me', 'bbc.com', 'bebesymas.com', 'bible.knowing-jesus.com', 'biggestchef.com', 'bigglobaltravel.com', 'callapp.com', 'cleverclassic.com', 'comedy.com', 'consejosytrucos.co', 'daquan.tv', 'dff3a14dc.app-ads-txt.com', 'docjournals.com', 'doctoreport.com', 'drama.fandom.com', 'drivepedia.com', 'easybrain.com', 'economipedia.com', 'elmundo.es', 'fandom.com', 'fifaindex.com', 'fortnitetracker.com', 'gameofglam.com', 'gardenmanage.com', 'gingerize.com', 'greetingsisland.com', 'healthline.com', 'heraldweekly.com', 'hi5.com', 'horoscoponegro.com', 'illumeably.com', 'infotechnology.com', 'ingles.com', 'instantlymodern.com', 'investing.com', 'investmentguru.com', 'itunes.apple.com', 'knowing-jesus.com', 'lanacion.com.ar', 'laopinion.com', 'laopinion.com.co', 'lavidalucida.com', 'lifestyle-a2z.com', 'lifestylelatino.com', 'locksmithofhearts.com', 'm.eluniversal.com.co', 'm.motor.com.co', 'medicalnewstoday.com', 'memedroid.com', 'mi.tv', 'notinerd.com', 'novelasligeras.net', 'olx.com.co', 'parentinfluence.com', 'pixlr.com', 'play.google.com', 'rtbplus.smartadserver.com', 'sofifa.com', 'solitaireios.easybrain.com', 'sticker.ly', 'sudokuios.zendesk.com', 'tagged.com', 'thedaddest.com', 'time.is', 'travelerdoor.com', 'tunovelaligera.com', 'univision.com', 'vix.com', 'wikihow.com', 'wordpress.com', 'worldmangas.com', 'www.easybrain.com', 'www.elespectador.com', 'www.eltiempo.com', 'www.etermax.com', 'www.famazine.com', 'www.healthline.com', 'www.heraldweekly.com', 'www.lecturas.com', 'www.lifestyle-a2z.com', 'www.medicalnewstoday.com', 'www.metrocuadrado.com', 'www.minuto30.com', 'www.mundodeportivo.com', 'www.oxigeno.fm', 'www.vix.com', 'www.webtoons.com'</td>\n",
              "    </tr>\n",
              "  </tbody>\n",
              "</table>\n",
              "</div>\n",
              "      <button class=\"colab-df-convert\" onclick=\"convertToInteractive('df-b2567567-aa89-426e-b1f4-b5dd767fc083')\"\n",
              "              title=\"Convert this dataframe to an interactive table.\"\n",
              "              style=\"display:none;\">\n",
              "        \n",
              "  <svg xmlns=\"http://www.w3.org/2000/svg\" height=\"24px\"viewBox=\"0 0 24 24\"\n",
              "       width=\"24px\">\n",
              "    <path d=\"M0 0h24v24H0V0z\" fill=\"none\"/>\n",
              "    <path d=\"M18.56 5.44l.94 2.06.94-2.06 2.06-.94-2.06-.94-.94-2.06-.94 2.06-2.06.94zm-11 1L8.5 8.5l.94-2.06 2.06-.94-2.06-.94L8.5 2.5l-.94 2.06-2.06.94zm10 10l.94 2.06.94-2.06 2.06-.94-2.06-.94-.94-2.06-.94 2.06-2.06.94z\"/><path d=\"M17.41 7.96l-1.37-1.37c-.4-.4-.92-.59-1.43-.59-.52 0-1.04.2-1.43.59L10.3 9.45l-7.72 7.72c-.78.78-.78 2.05 0 2.83L4 21.41c.39.39.9.59 1.41.59.51 0 1.02-.2 1.41-.59l7.78-7.78 2.81-2.81c.8-.78.8-2.07 0-2.86zM5.41 20L4 18.59l7.72-7.72 1.47 1.35L5.41 20z\"/>\n",
              "  </svg>\n",
              "      </button>\n",
              "      \n",
              "  <style>\n",
              "    .colab-df-container {\n",
              "      display:flex;\n",
              "      flex-wrap:wrap;\n",
              "      gap: 12px;\n",
              "    }\n",
              "\n",
              "    .colab-df-convert {\n",
              "      background-color: #E8F0FE;\n",
              "      border: none;\n",
              "      border-radius: 50%;\n",
              "      cursor: pointer;\n",
              "      display: none;\n",
              "      fill: #1967D2;\n",
              "      height: 32px;\n",
              "      padding: 0 0 0 0;\n",
              "      width: 32px;\n",
              "    }\n",
              "\n",
              "    .colab-df-convert:hover {\n",
              "      background-color: #E2EBFA;\n",
              "      box-shadow: 0px 1px 2px rgba(60, 64, 67, 0.3), 0px 1px 3px 1px rgba(60, 64, 67, 0.15);\n",
              "      fill: #174EA6;\n",
              "    }\n",
              "\n",
              "    [theme=dark] .colab-df-convert {\n",
              "      background-color: #3B4455;\n",
              "      fill: #D2E3FC;\n",
              "    }\n",
              "\n",
              "    [theme=dark] .colab-df-convert:hover {\n",
              "      background-color: #434B5C;\n",
              "      box-shadow: 0px 1px 3px 1px rgba(0, 0, 0, 0.15);\n",
              "      filter: drop-shadow(0px 1px 2px rgba(0, 0, 0, 0.3));\n",
              "      fill: #FFFFFF;\n",
              "    }\n",
              "  </style>\n",
              "\n",
              "      <script>\n",
              "        const buttonEl =\n",
              "          document.querySelector('#df-b2567567-aa89-426e-b1f4-b5dd767fc083 button.colab-df-convert');\n",
              "        buttonEl.style.display =\n",
              "          google.colab.kernel.accessAllowed ? 'block' : 'none';\n",
              "\n",
              "        async function convertToInteractive(key) {\n",
              "          const element = document.querySelector('#df-b2567567-aa89-426e-b1f4-b5dd767fc083');\n",
              "          const dataTable =\n",
              "            await google.colab.kernel.invokeFunction('convertToInteractive',\n",
              "                                                     [key], {});\n",
              "          if (!dataTable) return;\n",
              "\n",
              "          const docLinkHtml = 'Like what you see? Visit the ' +\n",
              "            '<a target=\"_blank\" href=https://colab.research.google.com/notebooks/data_table.ipynb>data table notebook</a>'\n",
              "            + ' to learn more about interactive tables.';\n",
              "          element.innerHTML = '';\n",
              "          dataTable['output_type'] = 'display_data';\n",
              "          await google.colab.output.renderOutput(dataTable, element);\n",
              "          const docLink = document.createElement('div');\n",
              "          docLink.innerHTML = docLinkHtml;\n",
              "          element.appendChild(docLink);\n",
              "        }\n",
              "      </script>\n",
              "    </div>\n",
              "  </div>\n",
              "  "
            ],
            "text/plain": [
              "                                                                                                                                                                                                                                                                                                                                                                                                                                                                                                                                                                                                                                                                                                                                                                                                                                                                                                                                                                                                                                                                                                                                                                                                                                                                                                                                                                                                                                                                                                                                                                                                                                                                                                                                                                                                                                                                                                                                                                                                                                                                                                                                                                                                                                                                                                                                                                                                                                                                                                                                                                                    Values\n",
              "Domain                                                                                                                                                                                                                                                                                                                                                                                                                                                                                                                                                                                                                                                                                                                                                                                                                                                                                                                                                                                                                                                                                                                                                                                                                                                                                                                                                                                                                                                                                                                                                                                                                                                                                                                                                                                                                                                                                                                                                                                                                                                                                                                                                                                                                                                                                                                                                                                                                                                                                                                                                                                    \n",
              "'ad_position'                                                                                                                                                                                                                                                                                                                                                                                                                                                                                                                                                                                                                                                                                                                                                                                                                                                                                                                                                                                                                                                                                                                                                                                                                                                                                                                                                                                                                                                                                                                                                                                                                                                                                                                                                                                                                                                                                                                                                                                                                                                                                                                                                                                                                                                                                                                                                                                                                                                                                '0', 'ABOVE_THE_FOLD', 'BELOW_THE_FOLD', 'FOOTER', 'FULLSCREEN', 'HEADER', 'POSITION_UNKNOWN'\n",
              "'ad_size'                                                                                                                                                                                                                                                                                                                                                                                                                                                                                                                                                                                                                                                                                                                                                                                                                                                                                                                                                                                                                                                                                                                                                                                                                                                                                                                                                                                                                                                                                                                                                                                                                                                                                                                                                                                                                                                                                                                                                                                                                                                                                                                                                                                                                              '-1x-1', '160x600', '1x1', '250x250', '256x192', '300x100', '300x250', '300x480', '300x50', '300x600', '320x100', '320x480', '320x50', '320x568', '320x570', '336x280', '360x56', '360x592', '360x598', '360x640', '360x703', '370x58', '375x667', '400x824', '411x64', '412x790', '412x814', '414x736', '424x808', '480x320', '728x90', '768x1024'\n",
              "'inventory_source'                                                                                                                                                                                                                                                                                                                                                                                                                                                                                                                                                                                                                                                                                                                                                                                                                                                                                                                                                                                                                                                                                                                                                                                                                                                                                                                                                                                                                                                                                                                                                                                                                                                                                                                                                                                                                                                                                                                                                                                                                                                                                                                                                                                                                                                                                                                                                                       'APPNEXUS', 'CRITEO', 'GOOGLE_ADX', 'INMOBI', 'INNERACTIVE', 'MILLENNIAL', 'MOPUB', 'OPENX', 'OPERA_MEDIA', 'RICHAUDIENCE', 'RUBICON', 'SMARTADSERVER', 'TRIPLELIFT', 'UNITY', 'UNRULYX', 'VERVE'\n",
              "'platform_bandwidth'                                                                                                                                                                                                                                                                                                                                                                                                                                                                                                                                                                                                                                                                                                                                                                                                                                                                                                                                                                                                                                                                                                                                                                                                                                                                                                                                                                                                                                                                                                                                                                                                                                                                                                                                                                                                                                                                                                                                                                                                                                                                                                                                                                                                                                                                                                                                                                                                                                                                  'CELL_2G', 'CELL_3G', 'CELL_4G', 'CELL_UNKNOWN', 'CONNECTION_UNKNOWN', 'ETHERNET', 'UNKNOWN', 'WIFI'\n",
              "'environment_type'                                                                                                                                                                                                                                                                                                                                                                                                                                                                                                                                                                                                                                                                                                                                                                                                                                                                                                                                                                                                                                                                                                                                                                                                                                                                                                                                                                                                                                                                                                                                                                                                                                                                                                                                                                                                                                                                                                                                                                                                                                                                                                                                                                                                                                                                                                                                                                                                                                                                                                                                                 'APP', 'UNKNOWN', 'WEB'\n",
              "'platform_carrier'                                                                                                                                                                                                                                                                                                                                                                                                                                                                                                                                                                                                                                                                                                                                                                                                                                                                                                                                                                                                                                                                                                                                                                                                                                                                                                                                                                                                                                                                                                                                                                                                                                                                                                                                                                                                                                                                                                                                                                                                                                                                                                                                                                                                                                                                                                                                                                                                                                                                                                                           '-1', 'Avantel ', 'Claro', 'Movistar', 'Tigo'\n",
              "'app_bundle'          '1524620009', '1533452966', 'Other', 'UNKNOWN', 'air.com.aceviral.motox3m', 'air.com.jogatina.domino.android', 'aplicaciones.paleta.alterlegionanime', 'aplicaciones.paleta.legionanimeday', 'aplicaciones.paleta.legionanimefull', 'aplicaciones.paleta.legionanimexs', 'bubble.shooter.shooting.shoot.game', 'cjvg.santabiblia', 'cn.wps.moffice_eng', 'coloring.color.number.happy.paint.art.drawing.puzzle', 'com.LoopGames.Domino', 'com.TeryBit.TeryBit', 'com.app.romansl.skvishy', 'com.bigcool.puzzle.fruitgenies', 'com.callapp.contacts', 'com.cyberlink.youcammakeup', 'com.cyberlink.youperfect', 'com.digitalproshare.filmapp', 'com.dogs.nine', 'com.drilens.wamr', 'com.dropdom.blockpuzzle.hwwgame', 'com.dualspace.multispace.android', 'com.dvex.movp', 'com.filmlegacy.slupaf', 'com.finecameffect.fortyfunseven', 'com.firsttouchgames.dls7', 'com.firsttouchgames.hero2', 'com.firsttouchgames.smp', 'com.fugo.wow', 'com.fungameplus.smartrope', 'com.gameeapp.android.app', 'com.gammalab.chessopenings', 'com.hafert.ImposterAssassin', 'com.higgs.cubemaster3d', 'com.jam.endo', 'com.jamendoandoutly.mainpakkage', 'com.linkdesks.iBubble', 'com.ludashi.dualspace', 'com.mars.avgchapters', 'com.merge.cat.paradise', 'com.merge.cube.winner', 'com.mintgames.triplecrush.tile.fun', 'com.mobz.vd.in', 'com.mojang.minecraftvr', 'com.movinapp.dict.frde.free', 'com.movinapp.dict.french.free', 'com.movinapp.dict.frit.free', 'com.movinapp.facts.science', 'com.musicops.vanillamusicdownload', 'com.musicplayer.playermusic', 'com.olx.olx', 'com.rahul.videoderbeta', 'com.sanhe.clipclaps', 'com.snowcorp.stickerly.android', 'com.solitaire.spider.patience.ocean.aquarium', 'com.sukhavati.gotoplaying.bubble.BubbleShooter.mint', 'com.superbox.aos.fire2048', 'com.sweetfuirt.candy', 'com.tilemaster.puzzle.block.match', 'com.tripledot.woodoku', 'com.vs.bhaktiringtone', 'com.wordgame.puzzle.board.es', 'com.wordgame.puzzle.resort.story', 'com.zareklamy', 'el.tio', 'fast.phone.clean', 'fluffyslime.swoimi.rukami', 'futbol.play', 'games.spearmint.matchanimal', 'games.spearmint.triplecrush', 'link.merge.puzzle.onnect.number', 'mobi.mangatoon.comics.aphone.spanish', 'mobi.mangatoon.novel.portuguese', 'mod.craftgame.minigame', 'music.musicplayer', 'org.majestic.congratulation', 'phone.cleaner.speed.booster.cache.clean.android.master', 'tm.alarm.clock', 'tv.mxliptv.app', 'video.downloaderforinstagram.photodownloader.repost', 'videoeditor.videorecorder.screenrecorder', 'vmd.windowphotoeditor'\n",
              "'domain'                                                                                                                                                                                                                                                                                                                                                                                                                                                                                                                                                                                                                                                                                                            'Other', 'UNKNOWN', 'absolutelyconnected.com', 'ahoramismo.com', 'aminoapps.com', 'ask.fm', 'autogestionatusalud.com', 'b612.snow.me', 'bbc.com', 'bebesymas.com', 'bible.knowing-jesus.com', 'biggestchef.com', 'bigglobaltravel.com', 'callapp.com', 'cleverclassic.com', 'comedy.com', 'consejosytrucos.co', 'daquan.tv', 'dff3a14dc.app-ads-txt.com', 'docjournals.com', 'doctoreport.com', 'drama.fandom.com', 'drivepedia.com', 'easybrain.com', 'economipedia.com', 'elmundo.es', 'fandom.com', 'fifaindex.com', 'fortnitetracker.com', 'gameofglam.com', 'gardenmanage.com', 'gingerize.com', 'greetingsisland.com', 'healthline.com', 'heraldweekly.com', 'hi5.com', 'horoscoponegro.com', 'illumeably.com', 'infotechnology.com', 'ingles.com', 'instantlymodern.com', 'investing.com', 'investmentguru.com', 'itunes.apple.com', 'knowing-jesus.com', 'lanacion.com.ar', 'laopinion.com', 'laopinion.com.co', 'lavidalucida.com', 'lifestyle-a2z.com', 'lifestylelatino.com', 'locksmithofhearts.com', 'm.eluniversal.com.co', 'm.motor.com.co', 'medicalnewstoday.com', 'memedroid.com', 'mi.tv', 'notinerd.com', 'novelasligeras.net', 'olx.com.co', 'parentinfluence.com', 'pixlr.com', 'play.google.com', 'rtbplus.smartadserver.com', 'sofifa.com', 'solitaireios.easybrain.com', 'sticker.ly', 'sudokuios.zendesk.com', 'tagged.com', 'thedaddest.com', 'time.is', 'travelerdoor.com', 'tunovelaligera.com', 'univision.com', 'vix.com', 'wikihow.com', 'wordpress.com', 'worldmangas.com', 'www.easybrain.com', 'www.elespectador.com', 'www.eltiempo.com', 'www.etermax.com', 'www.famazine.com', 'www.healthline.com', 'www.heraldweekly.com', 'www.lecturas.com', 'www.lifestyle-a2z.com', 'www.medicalnewstoday.com', 'www.metrocuadrado.com', 'www.minuto30.com', 'www.mundodeportivo.com', 'www.oxigeno.fm', 'www.vix.com', 'www.webtoons.com'"
            ]
          },
          "metadata": {}
        }
      ]
    },
    {
      "cell_type": "markdown",
      "source": [
        "Teniendo en cuenta a la vizualizacion de los datos unicos categoricos presentes en el dataset, se presta atención principal a los siguientes features:\n",
        "\n",
        "\n",
        "\n",
        "*   **platform_carrier**: Platform carrier cuenta con 5 posibles valores, entre los cuales existe el '-1', el cual corresponde a la inexistencia del dato en el dataset. Este valor corresponde al 51.7% del total de datos. Por lo tanto, la probabilidad de que el siguiente dato en producción sea desconocido es más alta, que conociendo alguna de las otras 4 carriers presentadas (Avantel, Claro, Movistar Tigo)\n",
        "\n",
        "*   **app_bundle**: De igual forma, este feature cuenta con valores desconocidos que representan el ~71%\n",
        "*   **domain** ~90%\n"
      ],
      "metadata": {
        "id": "5XGqSv_ZP-_5"
      }
    },
    {
      "cell_type": "markdown",
      "source": [
        "Analisis de platform_carrier"
      ],
      "metadata": {
        "id": "UewI8ak2dc7j"
      }
    },
    {
      "cell_type": "code",
      "source": [
        "platform_carrier_unique_val = len(ctr_schema.string_domain[5].value)\n",
        "print('Valores unicos de {}: {}'.format(ctr_schema.string_domain[5].name, platform_carrier_unique_val))"
      ],
      "metadata": {
        "colab": {
          "base_uri": "https://localhost:8080/"
        },
        "id": "eSc_kwZRdcm6",
        "outputId": "997e6e88-7c0b-4354-a13f-a5964e765c5a"
      },
      "execution_count": 221,
      "outputs": [
        {
          "output_type": "stream",
          "name": "stdout",
          "text": [
            "Valores unicos de platform_carrier: 5\n"
          ]
        }
      ]
    },
    {
      "cell_type": "code",
      "source": [
        "plot_feature_histogram(ctr_stats, ft_idx = 6)"
      ],
      "metadata": {
        "colab": {
          "base_uri": "https://localhost:8080/",
          "height": 338
        },
        "id": "VyeNLbAVdmb-",
        "outputId": "1c053ac1-c86b-4c1d-c0d2-4ead8d21b295"
      },
      "execution_count": 223,
      "outputs": [
        {
          "output_type": "display_data",
          "data": {
            "image/png": "[encoded data removed]",
            "text/plain": [
              "<Figure size 432x288 with 1 Axes>"
            ]
          },
          "metadata": {}
        }
      ]
    },
    {
      "cell_type": "markdown",
      "source": [
        "Analisis de **app_bundle**"
      ],
      "metadata": {
        "id": "G_49VjJcSKYC"
      }
    },
    {
      "cell_type": "code",
      "source": [
        "app_bundle_unique_val = len(ctr_schema.string_domain[6].value)\n",
        "print('Valores unicos de {}: {}'.format(ctr_schema.string_domain[6].name, app_bundle_unique_val))"
      ],
      "metadata": {
        "colab": {
          "base_uri": "https://localhost:8080/"
        },
        "id": "XQ0wtpEtSJCg",
        "outputId": "02f08efe-55e2-46cc-d3a8-7fd3e9443c86"
      },
      "execution_count": 218,
      "outputs": [
        {
          "output_type": "stream",
          "name": "stdout",
          "text": [
            "Valores unicos de app_bundle: 86\n"
          ]
        }
      ]
    },
    {
      "cell_type": "code",
      "source": [
        "plot_feature_histogram(ctr_stats, ft_idx = 7)"
      ],
      "metadata": {
        "colab": {
          "base_uri": "https://localhost:8080/",
          "height": 517
        },
        "id": "qskbpxkmag5f",
        "outputId": "0fcce103-e80b-47ed-bc03-46337e3c297b"
      },
      "execution_count": 219,
      "outputs": [
        {
          "output_type": "display_data",
          "data": {
            "image/png": "[encoded data removed]",
            "text/plain": [
              "<Figure size 432x288 with 1 Axes>"
            ]
          },
          "metadata": {}
        }
      ]
    },
    {
      "cell_type": "markdown",
      "source": [
        "Analisis de **domain**"
      ],
      "metadata": {
        "id": "E6Rs83i0QfbM"
      }
    },
    {
      "cell_type": "code",
      "source": [
        "domain_unique_val = len(ctr_schema.string_domain[7].value)\n",
        "print('Valores unicos de {}: {}'.format(ctr_schema.string_domain[7].name,domain_unique_val))"
      ],
      "metadata": {
        "colab": {
          "base_uri": "https://localhost:8080/"
        },
        "id": "FR_7h8OEQiBp",
        "outputId": "37d663db-0c5b-47d5-ba3f-98b340731e76"
      },
      "execution_count": 214,
      "outputs": [
        {
          "output_type": "stream",
          "name": "stdout",
          "text": [
            "Valores unicos de domain: 94\n"
          ]
        }
      ]
    },
    {
      "cell_type": "code",
      "source": [
        "plot_feature_histogram(ctr_stats, ft_idx = 8)"
      ],
      "metadata": {
        "colab": {
          "base_uri": "https://localhost:8080/",
          "height": 449
        },
        "id": "CVbW067pap2g",
        "outputId": "a75b5d13-61e8-457e-97af-e584a7cb1ce1"
      },
      "execution_count": 215,
      "outputs": [
        {
          "output_type": "display_data",
          "data": {
            "image/png": "[encoded data removed]",
            "text/plain": [
              "<Figure size 432x288 with 1 Axes>"
            ]
          },
          "metadata": {}
        }
      ]
    },
    {
      "cell_type": "code",
      "source": [
        "def delete_unknown_from_list(df, unknown_list):\n",
        "  \n"
      ],
      "metadata": {
        "id": "qCHjJlzQitWS"
      },
      "execution_count": null,
      "outputs": []
    },
    {
      "cell_type": "markdown",
      "source": [
        "Teniendo en cuenta los argumentos presentados, se eliminan los features: 'plaform_carrier’, 'app_bundle', 'domain'."
      ],
      "metadata": {
        "id": "ozN2WdY1ifQe"
      }
    },
    {
      "cell_type": "code",
      "source": [
        "# ctr_df = ctr_df[ctr_df['platform_carrier'] != '-1']\n",
        "\n",
        "# ctr_df = ctr_df[ctr_df['app_bundle'] != 'Other']\n",
        "# ctr_df = ctr_df[ctr_df['app_bundle'] != 'UNKNOWN']\n",
        "\n",
        "# ctr_df = ctr_df[ctr_df['domain'] != 'UNKNOWN']\n",
        "# ctr_df = ctr_df[ctr_df['domain'] != 'Other']\n",
        "\n",
        "\n",
        "# Las que se mantienen\n",
        "ctr_df = ctr_df[ctr_df['ad_size'] != '-1x-1']\n",
        "ctr_df = ctr_df[ctr_df['ad_size'] != '1x1']\n",
        "\n",
        "ctr_df = ctr_df[ctr_df['ad_position'] != 'POSITION_UNKNOWN']\n",
        "ctr_df = ctr_df[ctr_df['ad_position'] != '0']\n",
        "\n",
        "ctr_df = ctr_df[ctr_df['platform_bandwidth'] != 'CONNECTION_UNKNOWN']\n",
        "ctr_df = ctr_df[ctr_df['platform_bandwidth'] != 'CELL_UNKNOWN']\n",
        "ctr_df = ctr_df[ctr_df['platform_bandwidth'] != 'UNKNOWN']\n",
        "\n",
        "ctr_df = ctr_df[ctr_df['environment_type'] != 'UNKNOWN']"
      ],
      "metadata": {
        "id": "gIiHUPCtgTmG"
      },
      "execution_count": 354,
      "outputs": []
    },
    {
      "cell_type": "code",
      "source": [
        "to_use = ['ad_position, ad_size, ‘inventory_source’, ‘platform_bandwidth’,  ‘environment_type’, ']\n",
        "\n",
        "to_remove = ['plaform_carrier’, ‘app_bundle’, ‘domain’']"
      ],
      "metadata": {
        "id": "HOLFfxPpPo19"
      },
      "execution_count": 34,
      "outputs": []
    },
    {
      "cell_type": "code",
      "source": [
        "ctr_df"
      ],
      "metadata": {
        "colab": {
          "base_uri": "https://localhost:8080/",
          "height": 488
        },
        "id": "mJXGnhCBjqsQ",
        "outputId": "e77b5bdf-2d19-4a18-daeb-193fd6fdfb1a"
      },
      "execution_count": 355,
      "outputs": [
        {
          "output_type": "execute_result",
          "data": {
            "text/html": [
              "\n",
              "  <div id=\"df-e6c8c83a-80cd-4ad6-a91d-cc11df300065\">\n",
              "    <div class=\"colab-df-container\">\n",
              "      <div>\n",
              "<style scoped>\n",
              "    .dataframe tbody tr th:only-of-type {\n",
              "        vertical-align: middle;\n",
              "    }\n",
              "\n",
              "    .dataframe tbody tr th {\n",
              "        vertical-align: top;\n",
              "    }\n",
              "\n",
              "    .dataframe thead th {\n",
              "        text-align: right;\n",
              "    }\n",
              "</style>\n",
              "<table border=\"1\" class=\"dataframe\">\n",
              "  <thead>\n",
              "    <tr style=\"text-align: right;\">\n",
              "      <th></th>\n",
              "      <th>id</th>\n",
              "      <th>ad_position</th>\n",
              "      <th>ad_size</th>\n",
              "      <th>hour_of_day_utc</th>\n",
              "      <th>inventory_source</th>\n",
              "      <th>platform_bandwidth</th>\n",
              "      <th>environment_type</th>\n",
              "      <th>platform_carrier</th>\n",
              "      <th>app_bundle</th>\n",
              "      <th>domain</th>\n",
              "      <th>clicks</th>\n",
              "      <th>impressions</th>\n",
              "      <th>ctr</th>\n",
              "    </tr>\n",
              "  </thead>\n",
              "  <tbody>\n",
              "    <tr>\n",
              "      <th>0</th>\n",
              "      <td>1</td>\n",
              "      <td>FULLSCREEN</td>\n",
              "      <td>320x480</td>\n",
              "      <td>21</td>\n",
              "      <td>UNITY</td>\n",
              "      <td>WIFI</td>\n",
              "      <td>APP</td>\n",
              "      <td>-1</td>\n",
              "      <td>Other</td>\n",
              "      <td>UNKNOWN</td>\n",
              "      <td>6</td>\n",
              "      <td>29</td>\n",
              "      <td>0.206897</td>\n",
              "    </tr>\n",
              "    <tr>\n",
              "      <th>1</th>\n",
              "      <td>2</td>\n",
              "      <td>FULLSCREEN</td>\n",
              "      <td>320x480</td>\n",
              "      <td>23</td>\n",
              "      <td>UNITY</td>\n",
              "      <td>WIFI</td>\n",
              "      <td>APP</td>\n",
              "      <td>-1</td>\n",
              "      <td>com.wordgame.puzzle.board.es</td>\n",
              "      <td>UNKNOWN</td>\n",
              "      <td>13</td>\n",
              "      <td>86</td>\n",
              "      <td>0.151163</td>\n",
              "    </tr>\n",
              "    <tr>\n",
              "      <th>3</th>\n",
              "      <td>4</td>\n",
              "      <td>FULLSCREEN</td>\n",
              "      <td>320x480</td>\n",
              "      <td>23</td>\n",
              "      <td>MOPUB</td>\n",
              "      <td>CELL_4G</td>\n",
              "      <td>APP</td>\n",
              "      <td>Movistar</td>\n",
              "      <td>com.drilens.wamr</td>\n",
              "      <td>UNKNOWN</td>\n",
              "      <td>0</td>\n",
              "      <td>38</td>\n",
              "      <td>0.000000</td>\n",
              "    </tr>\n",
              "    <tr>\n",
              "      <th>5</th>\n",
              "      <td>6</td>\n",
              "      <td>FULLSCREEN</td>\n",
              "      <td>320x480</td>\n",
              "      <td>8</td>\n",
              "      <td>UNITY</td>\n",
              "      <td>WIFI</td>\n",
              "      <td>APP</td>\n",
              "      <td>-1</td>\n",
              "      <td>Other</td>\n",
              "      <td>UNKNOWN</td>\n",
              "      <td>2</td>\n",
              "      <td>42</td>\n",
              "      <td>0.047619</td>\n",
              "    </tr>\n",
              "    <tr>\n",
              "      <th>6</th>\n",
              "      <td>7</td>\n",
              "      <td>FULLSCREEN</td>\n",
              "      <td>480x320</td>\n",
              "      <td>9</td>\n",
              "      <td>UNITY</td>\n",
              "      <td>WIFI</td>\n",
              "      <td>APP</td>\n",
              "      <td>-1</td>\n",
              "      <td>Other</td>\n",
              "      <td>UNKNOWN</td>\n",
              "      <td>0</td>\n",
              "      <td>24</td>\n",
              "      <td>0.000000</td>\n",
              "    </tr>\n",
              "    <tr>\n",
              "      <th>...</th>\n",
              "      <td>...</td>\n",
              "      <td>...</td>\n",
              "      <td>...</td>\n",
              "      <td>...</td>\n",
              "      <td>...</td>\n",
              "      <td>...</td>\n",
              "      <td>...</td>\n",
              "      <td>...</td>\n",
              "      <td>...</td>\n",
              "      <td>...</td>\n",
              "      <td>...</td>\n",
              "      <td>...</td>\n",
              "      <td>...</td>\n",
              "    </tr>\n",
              "    <tr>\n",
              "      <th>41345</th>\n",
              "      <td>193139</td>\n",
              "      <td>ABOVE_THE_FOLD</td>\n",
              "      <td>320x50</td>\n",
              "      <td>18</td>\n",
              "      <td>MOPUB</td>\n",
              "      <td>CELL_4G</td>\n",
              "      <td>APP</td>\n",
              "      <td>Claro</td>\n",
              "      <td>Other</td>\n",
              "      <td>UNKNOWN</td>\n",
              "      <td>1</td>\n",
              "      <td>1</td>\n",
              "      <td>1.000000</td>\n",
              "    </tr>\n",
              "    <tr>\n",
              "      <th>41347</th>\n",
              "      <td>193412</td>\n",
              "      <td>ABOVE_THE_FOLD</td>\n",
              "      <td>320x50</td>\n",
              "      <td>7</td>\n",
              "      <td>MOPUB</td>\n",
              "      <td>WIFI</td>\n",
              "      <td>APP</td>\n",
              "      <td>-1</td>\n",
              "      <td>Other</td>\n",
              "      <td>UNKNOWN</td>\n",
              "      <td>1</td>\n",
              "      <td>1</td>\n",
              "      <td>1.000000</td>\n",
              "    </tr>\n",
              "    <tr>\n",
              "      <th>41348</th>\n",
              "      <td>193447</td>\n",
              "      <td>FULLSCREEN</td>\n",
              "      <td>320x480</td>\n",
              "      <td>13</td>\n",
              "      <td>MOPUB</td>\n",
              "      <td>WIFI</td>\n",
              "      <td>APP</td>\n",
              "      <td>-1</td>\n",
              "      <td>com.jam.endo</td>\n",
              "      <td>UNKNOWN</td>\n",
              "      <td>1</td>\n",
              "      <td>1</td>\n",
              "      <td>1.000000</td>\n",
              "    </tr>\n",
              "    <tr>\n",
              "      <th>41349</th>\n",
              "      <td>193455</td>\n",
              "      <td>FULLSCREEN</td>\n",
              "      <td>320x480</td>\n",
              "      <td>10</td>\n",
              "      <td>MOPUB</td>\n",
              "      <td>CELL_4G</td>\n",
              "      <td>APP</td>\n",
              "      <td>Movistar</td>\n",
              "      <td>Other</td>\n",
              "      <td>UNKNOWN</td>\n",
              "      <td>1</td>\n",
              "      <td>1</td>\n",
              "      <td>1.000000</td>\n",
              "    </tr>\n",
              "    <tr>\n",
              "      <th>41351</th>\n",
              "      <td>194305</td>\n",
              "      <td>FULLSCREEN</td>\n",
              "      <td>320x480</td>\n",
              "      <td>4</td>\n",
              "      <td>MOPUB</td>\n",
              "      <td>WIFI</td>\n",
              "      <td>APP</td>\n",
              "      <td>Claro</td>\n",
              "      <td>Other</td>\n",
              "      <td>UNKNOWN</td>\n",
              "      <td>2</td>\n",
              "      <td>2</td>\n",
              "      <td>1.000000</td>\n",
              "    </tr>\n",
              "  </tbody>\n",
              "</table>\n",
              "<p>28708 rows × 13 columns</p>\n",
              "</div>\n",
              "      <button class=\"colab-df-convert\" onclick=\"convertToInteractive('df-e6c8c83a-80cd-4ad6-a91d-cc11df300065')\"\n",
              "              title=\"Convert this dataframe to an interactive table.\"\n",
              "              style=\"display:none;\">\n",
              "        \n",
              "  <svg xmlns=\"http://www.w3.org/2000/svg\" height=\"24px\"viewBox=\"0 0 24 24\"\n",
              "       width=\"24px\">\n",
              "    <path d=\"M0 0h24v24H0V0z\" fill=\"none\"/>\n",
              "    <path d=\"M18.56 5.44l.94 2.06.94-2.06 2.06-.94-2.06-.94-.94-2.06-.94 2.06-2.06.94zm-11 1L8.5 8.5l.94-2.06 2.06-.94-2.06-.94L8.5 2.5l-.94 2.06-2.06.94zm10 10l.94 2.06.94-2.06 2.06-.94-2.06-.94-.94-2.06-.94 2.06-2.06.94z\"/><path d=\"M17.41 7.96l-1.37-1.37c-.4-.4-.92-.59-1.43-.59-.52 0-1.04.2-1.43.59L10.3 9.45l-7.72 7.72c-.78.78-.78 2.05 0 2.83L4 21.41c.39.39.9.59 1.41.59.51 0 1.02-.2 1.41-.59l7.78-7.78 2.81-2.81c.8-.78.8-2.07 0-2.86zM5.41 20L4 18.59l7.72-7.72 1.47 1.35L5.41 20z\"/>\n",
              "  </svg>\n",
              "      </button>\n",
              "      \n",
              "  <style>\n",
              "    .colab-df-container {\n",
              "      display:flex;\n",
              "      flex-wrap:wrap;\n",
              "      gap: 12px;\n",
              "    }\n",
              "\n",
              "    .colab-df-convert {\n",
              "      background-color: #E8F0FE;\n",
              "      border: none;\n",
              "      border-radius: 50%;\n",
              "      cursor: pointer;\n",
              "      display: none;\n",
              "      fill: #1967D2;\n",
              "      height: 32px;\n",
              "      padding: 0 0 0 0;\n",
              "      width: 32px;\n",
              "    }\n",
              "\n",
              "    .colab-df-convert:hover {\n",
              "      background-color: #E2EBFA;\n",
              "      box-shadow: 0px 1px 2px rgba(60, 64, 67, 0.3), 0px 1px 3px 1px rgba(60, 64, 67, 0.15);\n",
              "      fill: #174EA6;\n",
              "    }\n",
              "\n",
              "    [theme=dark] .colab-df-convert {\n",
              "      background-color: #3B4455;\n",
              "      fill: #D2E3FC;\n",
              "    }\n",
              "\n",
              "    [theme=dark] .colab-df-convert:hover {\n",
              "      background-color: #434B5C;\n",
              "      box-shadow: 0px 1px 3px 1px rgba(0, 0, 0, 0.15);\n",
              "      filter: drop-shadow(0px 1px 2px rgba(0, 0, 0, 0.3));\n",
              "      fill: #FFFFFF;\n",
              "    }\n",
              "  </style>\n",
              "\n",
              "      <script>\n",
              "        const buttonEl =\n",
              "          document.querySelector('#df-e6c8c83a-80cd-4ad6-a91d-cc11df300065 button.colab-df-convert');\n",
              "        buttonEl.style.display =\n",
              "          google.colab.kernel.accessAllowed ? 'block' : 'none';\n",
              "\n",
              "        async function convertToInteractive(key) {\n",
              "          const element = document.querySelector('#df-e6c8c83a-80cd-4ad6-a91d-cc11df300065');\n",
              "          const dataTable =\n",
              "            await google.colab.kernel.invokeFunction('convertToInteractive',\n",
              "                                                     [key], {});\n",
              "          if (!dataTable) return;\n",
              "\n",
              "          const docLinkHtml = 'Like what you see? Visit the ' +\n",
              "            '<a target=\"_blank\" href=https://colab.research.google.com/notebooks/data_table.ipynb>data table notebook</a>'\n",
              "            + ' to learn more about interactive tables.';\n",
              "          element.innerHTML = '';\n",
              "          dataTable['output_type'] = 'display_data';\n",
              "          await google.colab.output.renderOutput(dataTable, element);\n",
              "          const docLink = document.createElement('div');\n",
              "          docLink.innerHTML = docLinkHtml;\n",
              "          element.appendChild(docLink);\n",
              "        }\n",
              "      </script>\n",
              "    </div>\n",
              "  </div>\n",
              "  "
            ],
            "text/plain": [
              "           id     ad_position  ad_size  ...  clicks impressions       ctr\n",
              "0           1      FULLSCREEN  320x480  ...       6          29  0.206897\n",
              "1           2      FULLSCREEN  320x480  ...      13          86  0.151163\n",
              "3           4      FULLSCREEN  320x480  ...       0          38  0.000000\n",
              "5           6      FULLSCREEN  320x480  ...       2          42  0.047619\n",
              "6           7      FULLSCREEN  480x320  ...       0          24  0.000000\n",
              "...       ...             ...      ...  ...     ...         ...       ...\n",
              "41345  193139  ABOVE_THE_FOLD   320x50  ...       1           1  1.000000\n",
              "41347  193412  ABOVE_THE_FOLD   320x50  ...       1           1  1.000000\n",
              "41348  193447      FULLSCREEN  320x480  ...       1           1  1.000000\n",
              "41349  193455      FULLSCREEN  320x480  ...       1           1  1.000000\n",
              "41351  194305      FULLSCREEN  320x480  ...       2           2  1.000000\n",
              "\n",
              "[28708 rows x 13 columns]"
            ]
          },
          "metadata": {},
          "execution_count": 355
        }
      ]
    },
    {
      "cell_type": "markdown",
      "source": [
        "# Feature Importance"
      ],
      "metadata": {
        "id": "My0YTetKPm9r"
      }
    },
    {
      "cell_type": "code",
      "source": [
        "sns.set_theme(style=\"white\")\n",
        "\n",
        "model_corr = ctr_df.corr()\n",
        "\n",
        "f, ax = plt.subplots(figsize=(11, 9))\n",
        "#mask = np.triu(np.ones_like(model_corr, dtype=bool))\n",
        "cmap = sns.diverging_palette(230, 20, as_cmap=True)\n",
        "sns.heatmap(model_corr, cmap=cmap, vmax=.3, center=0,\n",
        "            square=True, linewidths=.5, cbar_kws={\"shrink\": .5})"
      ],
      "metadata": {
        "colab": {
          "base_uri": "https://localhost:8080/",
          "height": 558
        },
        "id": "YxjMlGu-9v3g",
        "outputId": "30b1efef-f1bb-4431-8cb8-36c03456c432"
      },
      "execution_count": 31,
      "outputs": [
        {
          "output_type": "execute_result",
          "data": {
            "text/plain": [
              "<matplotlib.axes._subplots.AxesSubplot at 0x7f06bc412990>"
            ]
          },
          "metadata": {},
          "execution_count": 31
        },
        {
          "output_type": "display_data",
          "data": {
            "image/png": "[encoded data removed]",
            "text/plain": [
              "<Figure size 792x648 with 2 Axes>"
            ]
          },
          "metadata": {}
        }
      ]
    },
    {
      "cell_type": "code",
      "source": [
        ""
      ],
      "metadata": {
        "id": "PumNPuNRMPzV"
      },
      "execution_count": null,
      "outputs": []
    }
  ]
}